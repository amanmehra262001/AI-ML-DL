{
 "cells": [
  {
   "cell_type": "code",
   "execution_count": 1,
   "id": "a327c05d-10e4-4e10-a987-ef6b7d43f519",
   "metadata": {
    "tags": []
   },
   "outputs": [],
   "source": [
    "# Description: This program detects if an email is spam (1) or not (0)"
   ]
  },
  {
   "cell_type": "code",
   "execution_count": 2,
   "id": "520d2658-f258-4a31-9aa7-35f92117c37a",
   "metadata": {
    "tags": []
   },
   "outputs": [],
   "source": [
    "#Import libraries\n",
    "import numpy as np \n",
    "import pandas as pd \n",
    "# import nltk\n",
    "# from nltk.corpus import stopwords\n",
    "# import string\n",
    "\n",
    "# sklearn train test split\n",
    "from sklearn.model_selection import train_test_split\n",
    "from sklearn.metrics import accuracy_score, confusion_matrix"
   ]
  },
  {
   "cell_type": "markdown",
   "id": "01f5d4e6-2639-4d33-94e6-96fa8debb5e7",
   "metadata": {},
   "source": [
    "### Dataset from https://archive.ics.uci.edu/ml/datasets/sms+spam+collection"
   ]
  },
  {
   "cell_type": "code",
   "execution_count": 3,
   "id": "bc2bfc5f-f6ab-4e0e-bc1b-782dd396a7a2",
   "metadata": {
    "tags": []
   },
   "outputs": [
    {
     "name": "stdout",
     "output_type": "stream",
     "text": [
      "     Label                                                SMS\n",
      "0      ham  Go until jurong point, crazy.. Available only ...\n",
      "1      ham                      Ok lar... Joking wif u oni...\n",
      "2     spam  Free entry in 2 a wkly comp to win FA Cup fina...\n",
      "3      ham  U dun say so early hor... U c already then say...\n",
      "4      ham  Nah I don't think he goes to usf, he lives aro...\n",
      "...    ...                                                ...\n",
      "5567  spam  This is the 2nd time we have tried 2 contact u...\n",
      "5568   ham               Will ü b going to esplanade fr home?\n",
      "5569   ham  Pity, * was in mood for that. So...any other s...\n",
      "5570   ham  The guy did some bitching but I acted like i'd...\n",
      "5571   ham                         Rofl. Its true to its name\n",
      "\n",
      "[5572 rows x 2 columns]\n"
     ]
    }
   ],
   "source": [
    "# This line reads dataset in its raw format and creates rows and columns from it.\n",
    "df = pd.read_csv('spamcollection/SMSSpamCollection', header=None, sep='\\t', names=['Label', 'SMS'])\n",
    "print(df)"
   ]
  },
  {
   "cell_type": "code",
   "execution_count": 4,
   "id": "f140eab4-a714-4473-9515-81de213350fa",
   "metadata": {
    "tags": []
   },
   "outputs": [
    {
     "name": "stdout",
     "output_type": "stream",
     "text": [
      "<class 'pandas.core.frame.DataFrame'>\n",
      "RangeIndex: 5572 entries, 0 to 5571\n",
      "Data columns (total 2 columns):\n",
      " #   Column  Non-Null Count  Dtype \n",
      "---  ------  --------------  ----- \n",
      " 0   Label   5572 non-null   object\n",
      " 1   SMS     5572 non-null   object\n",
      "dtypes: object(2)\n",
      "memory usage: 87.2+ KB\n"
     ]
    }
   ],
   "source": [
    "df.info()"
   ]
  },
  {
   "cell_type": "code",
   "execution_count": 5,
   "id": "cdbadae8-0b06-409a-bb8c-964ee51ffceb",
   "metadata": {
    "tags": []
   },
   "outputs": [
    {
     "data": {
      "text/html": [
       "<div>\n",
       "<style scoped>\n",
       "    .dataframe tbody tr th:only-of-type {\n",
       "        vertical-align: middle;\n",
       "    }\n",
       "\n",
       "    .dataframe tbody tr th {\n",
       "        vertical-align: top;\n",
       "    }\n",
       "\n",
       "    .dataframe thead th {\n",
       "        text-align: right;\n",
       "    }\n",
       "</style>\n",
       "<table border=\"1\" class=\"dataframe\">\n",
       "  <thead>\n",
       "    <tr style=\"text-align: right;\">\n",
       "      <th></th>\n",
       "      <th>SMS</th>\n",
       "    </tr>\n",
       "    <tr>\n",
       "      <th>Label</th>\n",
       "      <th></th>\n",
       "    </tr>\n",
       "  </thead>\n",
       "  <tbody>\n",
       "    <tr>\n",
       "      <th>ham</th>\n",
       "      <td>4825</td>\n",
       "    </tr>\n",
       "    <tr>\n",
       "      <th>spam</th>\n",
       "      <td>747</td>\n",
       "    </tr>\n",
       "  </tbody>\n",
       "</table>\n",
       "</div>"
      ],
      "text/plain": [
       "        SMS\n",
       "Label      \n",
       "ham    4825\n",
       "spam    747"
      ]
     },
     "execution_count": 5,
     "metadata": {},
     "output_type": "execute_result"
    }
   ],
   "source": [
    "df.groupby('Label').count()"
   ]
  },
  {
   "cell_type": "markdown",
   "id": "d2a3d9e5-6584-4546-b2fd-0e534aaf61b9",
   "metadata": {},
   "source": [
    "## Data PreProcessing"
   ]
  },
  {
   "cell_type": "code",
   "execution_count": 6,
   "id": "d7529907-04f5-45df-9d8e-511b6a4e5c70",
   "metadata": {
    "tags": []
   },
   "outputs": [],
   "source": [
    "df_clean = df.copy()"
   ]
  },
  {
   "cell_type": "code",
   "execution_count": 7,
   "id": "ffbd521f-4054-4d83-8c81-2ec4dd2aab5d",
   "metadata": {
    "tags": []
   },
   "outputs": [
    {
     "name": "stderr",
     "output_type": "stream",
     "text": [
      "/tmp/ipykernel_17165/4248395903.py:1: FutureWarning: The default value of regex will change from True to False in a future version.\n",
      "  df_clean['SMS'] = df_clean['SMS'].str.replace('\\W+', ' ').str.replace('\\s+', ' ').str.strip()\n"
     ]
    },
    {
     "data": {
      "text/plain": [
       "0    [go, until, jurong, point, crazy, available, o...\n",
       "1                       [ok, lar, joking, wif, u, oni]\n",
       "2    [free, entry, in, 2, a, wkly, comp, to, win, f...\n",
       "3    [u, dun, say, so, early, hor, u, c, already, t...\n",
       "4    [nah, i, don, t, think, he, goes, to, usf, he,...\n",
       "Name: SMS, dtype: object"
      ]
     },
     "execution_count": 7,
     "metadata": {},
     "output_type": "execute_result"
    }
   ],
   "source": [
    "df_clean['SMS'] = df_clean['SMS'].str.replace('\\W+', ' ').str.replace('\\s+', ' ').str.strip()\n",
    "df_clean['SMS'] = df_clean['SMS'].str.lower()\n",
    "df_clean['SMS'] = df_clean['SMS'].str.split()\n",
    "df_clean['SMS'].head()"
   ]
  },
  {
   "cell_type": "code",
   "execution_count": 8,
   "id": "7ad67854-8bf0-40a2-a786-fe17c27a4a10",
   "metadata": {
    "tags": []
   },
   "outputs": [
    {
     "name": "stdout",
     "output_type": "stream",
     "text": [
      "(3900,)\n",
      "(3900,)\n",
      "(1672,)\n",
      "(1672,)\n"
     ]
    }
   ],
   "source": [
    "X_train, X_test, Y_train, Y_test = train_test_split(df_clean['SMS'], df_clean['Label'], test_size=0.3, random_state=5)\n",
    "print(X_train.shape)\n",
    "print(Y_train.shape)\n",
    "print(X_test.shape)\n",
    "print(Y_test.shape)"
   ]
  },
  {
   "cell_type": "markdown",
   "id": "1a872c2a-2e00-4b2b-9780-133f39e3a75a",
   "metadata": {
    "tags": []
   },
   "source": [
    "## Prepare Volacbulary - List of all the words from the dataset"
   ]
  },
  {
   "cell_type": "code",
   "execution_count": 9,
   "id": "64fec64d-b54f-41aa-8418-b15401671d0c",
   "metadata": {
    "tags": []
   },
   "outputs": [
    {
     "data": {
      "text/plain": [
       "['anal',\n",
       " 'logoff',\n",
       " 'period',\n",
       " 'lost',\n",
       " 'bold',\n",
       " 'epsilon',\n",
       " 'build',\n",
       " 'help',\n",
       " 'aboutas']"
      ]
     },
     "execution_count": 9,
     "metadata": {},
     "output_type": "execute_result"
    }
   ],
   "source": [
    "vocabulary = list(set(X_train.sum()))\n",
    "vocabulary[11:20]"
   ]
  },
  {
   "cell_type": "code",
   "execution_count": 10,
   "id": "e76bb4f1-9e63-40d5-b0c4-e89e2bf74ffc",
   "metadata": {},
   "outputs": [
    {
     "data": {
      "text/plain": [
       "7235"
      ]
     },
     "execution_count": 10,
     "metadata": {},
     "output_type": "execute_result"
    }
   ],
   "source": [
    "len(vocabulary)"
   ]
  },
  {
   "cell_type": "markdown",
   "id": "8425ad29-d262-4a19-9dd9-89b40cb08f42",
   "metadata": {},
   "source": [
    "## Calculate frequencies of the words for each message"
   ]
  },
  {
   "cell_type": "code",
   "execution_count": 11,
   "id": "38443657-a1ac-4578-954c-6da5175569ef",
   "metadata": {},
   "outputs": [],
   "source": [
    "word_count_per_sms = pd.DataFrame([\n",
    "    [row.count(word) for word in vocabulary]\n",
    "    for row in X_train], columns=vocabulary)"
   ]
  },
  {
   "cell_type": "code",
   "execution_count": 12,
   "id": "8fbaf336-2074-440d-ba98-1d8143bac3e1",
   "metadata": {
    "tags": []
   },
   "outputs": [],
   "source": [
    "X_train = pd.concat([X_train.reset_index(), word_count_per_sms], axis=1).iloc[:,1:]"
   ]
  },
  {
   "cell_type": "code",
   "execution_count": 13,
   "id": "e30bc641-cb17-4341-a238-29b1ee967117",
   "metadata": {
    "tags": []
   },
   "outputs": [
    {
     "data": {
      "text/html": [
       "<div>\n",
       "<style scoped>\n",
       "    .dataframe tbody tr th:only-of-type {\n",
       "        vertical-align: middle;\n",
       "    }\n",
       "\n",
       "    .dataframe tbody tr th {\n",
       "        vertical-align: top;\n",
       "    }\n",
       "\n",
       "    .dataframe thead th {\n",
       "        text-align: right;\n",
       "    }\n",
       "</style>\n",
       "<table border=\"1\" class=\"dataframe\">\n",
       "  <thead>\n",
       "    <tr style=\"text-align: right;\">\n",
       "      <th></th>\n",
       "      <th>SMS</th>\n",
       "      <th>phone</th>\n",
       "      <th>advice</th>\n",
       "      <th>sale</th>\n",
       "      <th>spose</th>\n",
       "      <th>icicibank</th>\n",
       "      <th>finding</th>\n",
       "      <th>reason</th>\n",
       "      <th>urmom</th>\n",
       "      <th>sleepin</th>\n",
       "      <th>...</th>\n",
       "      <th>theirs</th>\n",
       "      <th>contract</th>\n",
       "      <th>forward</th>\n",
       "      <th>amount</th>\n",
       "      <th>faith</th>\n",
       "      <th>across</th>\n",
       "      <th>yards</th>\n",
       "      <th>summer</th>\n",
       "      <th>praps</th>\n",
       "      <th>ability</th>\n",
       "    </tr>\n",
       "  </thead>\n",
       "  <tbody>\n",
       "    <tr>\n",
       "      <th>0</th>\n",
       "      <td>[nite]</td>\n",
       "      <td>0</td>\n",
       "      <td>0</td>\n",
       "      <td>0</td>\n",
       "      <td>0</td>\n",
       "      <td>0</td>\n",
       "      <td>0</td>\n",
       "      <td>0</td>\n",
       "      <td>0</td>\n",
       "      <td>0</td>\n",
       "      <td>...</td>\n",
       "      <td>0</td>\n",
       "      <td>0</td>\n",
       "      <td>0</td>\n",
       "      <td>0</td>\n",
       "      <td>0</td>\n",
       "      <td>0</td>\n",
       "      <td>0</td>\n",
       "      <td>0</td>\n",
       "      <td>0</td>\n",
       "      <td>0</td>\n",
       "    </tr>\n",
       "    <tr>\n",
       "      <th>1</th>\n",
       "      <td>[good, morning, plz, call, me, sir]</td>\n",
       "      <td>0</td>\n",
       "      <td>0</td>\n",
       "      <td>0</td>\n",
       "      <td>0</td>\n",
       "      <td>0</td>\n",
       "      <td>0</td>\n",
       "      <td>0</td>\n",
       "      <td>0</td>\n",
       "      <td>0</td>\n",
       "      <td>...</td>\n",
       "      <td>0</td>\n",
       "      <td>0</td>\n",
       "      <td>0</td>\n",
       "      <td>0</td>\n",
       "      <td>0</td>\n",
       "      <td>0</td>\n",
       "      <td>0</td>\n",
       "      <td>0</td>\n",
       "      <td>0</td>\n",
       "      <td>0</td>\n",
       "    </tr>\n",
       "    <tr>\n",
       "      <th>2</th>\n",
       "      <td>[i, am, late, i, will, be, there, at]</td>\n",
       "      <td>0</td>\n",
       "      <td>0</td>\n",
       "      <td>0</td>\n",
       "      <td>0</td>\n",
       "      <td>0</td>\n",
       "      <td>0</td>\n",
       "      <td>0</td>\n",
       "      <td>0</td>\n",
       "      <td>0</td>\n",
       "      <td>...</td>\n",
       "      <td>0</td>\n",
       "      <td>0</td>\n",
       "      <td>0</td>\n",
       "      <td>0</td>\n",
       "      <td>0</td>\n",
       "      <td>0</td>\n",
       "      <td>0</td>\n",
       "      <td>0</td>\n",
       "      <td>0</td>\n",
       "      <td>0</td>\n",
       "    </tr>\n",
       "    <tr>\n",
       "      <th>3</th>\n",
       "      <td>[your, opinion, about, me, 1, over, 2, jada, 3...</td>\n",
       "      <td>0</td>\n",
       "      <td>0</td>\n",
       "      <td>0</td>\n",
       "      <td>0</td>\n",
       "      <td>0</td>\n",
       "      <td>0</td>\n",
       "      <td>0</td>\n",
       "      <td>0</td>\n",
       "      <td>0</td>\n",
       "      <td>...</td>\n",
       "      <td>0</td>\n",
       "      <td>0</td>\n",
       "      <td>0</td>\n",
       "      <td>0</td>\n",
       "      <td>0</td>\n",
       "      <td>0</td>\n",
       "      <td>0</td>\n",
       "      <td>0</td>\n",
       "      <td>0</td>\n",
       "      <td>0</td>\n",
       "    </tr>\n",
       "    <tr>\n",
       "      <th>4</th>\n",
       "      <td>[s, from, the, training, manual, it, show, the...</td>\n",
       "      <td>0</td>\n",
       "      <td>0</td>\n",
       "      <td>0</td>\n",
       "      <td>0</td>\n",
       "      <td>0</td>\n",
       "      <td>0</td>\n",
       "      <td>0</td>\n",
       "      <td>0</td>\n",
       "      <td>0</td>\n",
       "      <td>...</td>\n",
       "      <td>0</td>\n",
       "      <td>0</td>\n",
       "      <td>0</td>\n",
       "      <td>0</td>\n",
       "      <td>0</td>\n",
       "      <td>0</td>\n",
       "      <td>0</td>\n",
       "      <td>0</td>\n",
       "      <td>0</td>\n",
       "      <td>0</td>\n",
       "    </tr>\n",
       "  </tbody>\n",
       "</table>\n",
       "<p>5 rows × 7236 columns</p>\n",
       "</div>"
      ],
      "text/plain": [
       "                                                 SMS  phone  advice  sale  \\\n",
       "0                                             [nite]      0       0     0   \n",
       "1                [good, morning, plz, call, me, sir]      0       0     0   \n",
       "2              [i, am, late, i, will, be, there, at]      0       0     0   \n",
       "3  [your, opinion, about, me, 1, over, 2, jada, 3...      0       0     0   \n",
       "4  [s, from, the, training, manual, it, show, the...      0       0     0   \n",
       "\n",
       "   spose  icicibank  finding  reason  urmom  sleepin  ...  theirs  contract  \\\n",
       "0      0          0        0       0      0        0  ...       0         0   \n",
       "1      0          0        0       0      0        0  ...       0         0   \n",
       "2      0          0        0       0      0        0  ...       0         0   \n",
       "3      0          0        0       0      0        0  ...       0         0   \n",
       "4      0          0        0       0      0        0  ...       0         0   \n",
       "\n",
       "   forward  amount  faith  across  yards  summer  praps  ability  \n",
       "0        0       0      0       0      0       0      0        0  \n",
       "1        0       0      0       0      0       0      0        0  \n",
       "2        0       0      0       0      0       0      0        0  \n",
       "3        0       0      0       0      0       0      0        0  \n",
       "4        0       0      0       0      0       0      0        0  \n",
       "\n",
       "[5 rows x 7236 columns]"
      ]
     },
     "execution_count": 13,
     "metadata": {},
     "output_type": "execute_result"
    }
   ],
   "source": [
    "X_train.head()"
   ]
  },
  {
   "cell_type": "markdown",
   "id": "43ec784b-94fc-4ab7-8f04-13a2a3d62921",
   "metadata": {},
   "source": [
    "## Calculate values for the Bayes Formulae"
   ]
  },
  {
   "cell_type": "code",
   "execution_count": 14,
   "id": "c5a214d8-0a97-4099-bc98-1455f5aa6a7a",
   "metadata": {
    "tags": []
   },
   "outputs": [],
   "source": [
    "Y_train_df = pd.DataFrame(data=Y_train.values, columns=['Label'])"
   ]
  },
  {
   "cell_type": "code",
   "execution_count": 15,
   "id": "c81c8deb-2d9d-4c1c-a6e3-664538809ae6",
   "metadata": {
    "tags": []
   },
   "outputs": [
    {
     "name": "stdout",
     "output_type": "stream",
     "text": [
      "0.13435897435897437 0.8656410256410256 13346 49434\n"
     ]
    }
   ],
   "source": [
    "alpha = 1\n",
    "Nvoc = len(X_train.columns)-2\n",
    "Pspam = Y_train_df.value_counts()['spam'] / Y_train_df.shape[0]\n",
    "Pham = Y_train_df.value_counts()['ham'] / Y_train_df.shape[0]\n",
    "Nspam = X_train.loc[Y_train_df['Label'] == 'spam', 'SMS'].apply(len).sum()\n",
    "Nham = X_train.loc[Y_train_df['Label'] == 'ham', 'SMS'].apply(len).sum()\n",
    "print(Pspam, Pham, Nspam, Nham)"
   ]
  },
  {
   "cell_type": "code",
   "execution_count": 16,
   "id": "187343e1-c7f3-4a48-a3b6-f037e5d61afa",
   "metadata": {
    "tags": []
   },
   "outputs": [],
   "source": [
    "def p_w_spam(word):\n",
    "    if word in X_train:\n",
    "        return (X_train.loc[Y_train_df['Label']=='spam', word].sum() + alpha)/ (Nspam + alpha*Nvoc)\n",
    "    else:\n",
    "        return 1"
   ]
  },
  {
   "cell_type": "code",
   "execution_count": 17,
   "id": "7d7a5d62-8020-4828-a4e9-8cc2565c704f",
   "metadata": {
    "tags": []
   },
   "outputs": [],
   "source": [
    "def p_w_ham(word):\n",
    "    if word in X_train:\n",
    "        return (X_train.loc[Y_train_df['Label']=='ham', word].sum() + alpha)/ (Nham + alpha*Nvoc)\n",
    "    else:\n",
    "        return 1"
   ]
  },
  {
   "cell_type": "markdown",
   "id": "158dff2c-6c12-42b4-86b4-67c17ca6c6db",
   "metadata": {},
   "source": [
    "## Preparing Classifier"
   ]
  },
  {
   "cell_type": "code",
   "execution_count": 18,
   "id": "bb3bb383-d9f3-4696-b044-ed7a2808391c",
   "metadata": {
    "tags": []
   },
   "outputs": [],
   "source": [
    "def classify(message):\n",
    "    p_spam_given_message = Pspam\n",
    "    p_ham_given_message = Pham\n",
    "    for word in message:\n",
    "        p_spam_given_message *= p_w_spam(word)\n",
    "        p_ham_given_message *= p_w_ham(word)\n",
    "    if p_ham_given_message > p_spam_given_message:\n",
    "        return 'ham'\n",
    "    elif p_ham_given_message < p_spam_given_message:\n",
    "        return 'spam'\n",
    "    else:\n",
    "        return 'needs human classification'"
   ]
  },
  {
   "cell_type": "code",
   "execution_count": 19,
   "id": "13f4c01e-3a40-4aa3-8b44-ffe0fc3cc4f3",
   "metadata": {
    "tags": []
   },
   "outputs": [
    {
     "data": {
      "text/plain": [
       "'ham'"
      ]
     },
     "execution_count": 19,
     "metadata": {},
     "output_type": "execute_result"
    }
   ],
   "source": [
    "classify('secret')"
   ]
  },
  {
   "cell_type": "code",
   "execution_count": 20,
   "id": "508f99f1-2fc9-4345-9996-0aedd32df6c4",
   "metadata": {
    "tags": []
   },
   "outputs": [
    {
     "data": {
      "text/plain": [
       "'ham'"
      ]
     },
     "execution_count": 20,
     "metadata": {},
     "output_type": "execute_result"
    }
   ],
   "source": [
    "classify(['secret', 'source', 'of', 'infinite', 'power'])"
   ]
  },
  {
   "cell_type": "markdown",
   "id": "47772b0b-8118-4665-bc8c-4335a120fb13",
   "metadata": {},
   "source": [
    "## Using test data"
   ]
  },
  {
   "cell_type": "code",
   "execution_count": 21,
   "id": "24eab3c4-da90-4346-85e8-8a586fdf2276",
   "metadata": {
    "tags": []
   },
   "outputs": [],
   "source": [
    "Y_test_df = pd.DataFrame(data=Y_test.values, columns=['Label'])\n",
    "X_test_df = pd.DataFrame(data=X_test.values, columns=['SMS'])\n",
    "\n",
    "X_test_df['predicted'] = X_test_df['SMS'].apply(classify)"
   ]
  },
  {
   "cell_type": "code",
   "execution_count": 22,
   "id": "459ccb9f-3c61-4935-866c-ae2816a2e1c5",
   "metadata": {
    "tags": []
   },
   "outputs": [],
   "source": [
    "correct = (X_test_df['predicted'] == Y_test_df['Label']).sum() / X_test_df.shape[0] * 100"
   ]
  },
  {
   "cell_type": "code",
   "execution_count": 23,
   "id": "9e95a8b2-22c3-469a-9539-7a7a7029fa64",
   "metadata": {
    "tags": []
   },
   "outputs": [
    {
     "name": "stdout",
     "output_type": "stream",
     "text": [
      "Accuracy of the model is : 99.04306220095694%\n"
     ]
    }
   ],
   "source": [
    "print(f'Accuracy of the model is : {correct}%')"
   ]
  },
  {
   "cell_type": "code",
   "execution_count": 24,
   "id": "cef5930b-933b-4d7e-beaa-82f20d251181",
   "metadata": {
    "tags": []
   },
   "outputs": [
    {
     "data": {
      "text/plain": [
       "array([[1445,    2,    2],\n",
       "       [   0,    0,    0],\n",
       "       [  12,    0,  211]])"
      ]
     },
     "execution_count": 24,
     "metadata": {},
     "output_type": "execute_result"
    }
   ],
   "source": [
    "confusion_matrix(Y_test_df['Label'], X_test_df['predicted'])"
   ]
  },
  {
   "cell_type": "code",
   "execution_count": null,
   "id": "14971d54-a0af-4552-9107-04d06c96ca03",
   "metadata": {},
   "outputs": [],
   "source": []
  }
 ],
 "metadata": {
  "kernelspec": {
   "display_name": "Python 3 (ipykernel)",
   "language": "python",
   "name": "python3"
  },
  "language_info": {
   "codemirror_mode": {
    "name": "ipython",
    "version": 3
   },
   "file_extension": ".py",
   "mimetype": "text/x-python",
   "name": "python",
   "nbconvert_exporter": "python",
   "pygments_lexer": "ipython3",
   "version": "3.10.6"
  }
 },
 "nbformat": 4,
 "nbformat_minor": 5
}
